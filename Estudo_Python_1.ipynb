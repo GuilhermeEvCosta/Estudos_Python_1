{
  "nbformat": 4,
  "nbformat_minor": 0,
  "metadata": {
    "colab": {
      "provenance": []
    },
    "kernelspec": {
      "name": "python3",
      "display_name": "Python 3"
    },
    "language_info": {
      "name": "python"
    }
  },
  "cells": [
    {
      "cell_type": "markdown",
      "source": [
        "Estudos PyThon\n",
        "\n",
        "São Paulo,23 de Março de 2023\n",
        "Guilherme Evangelista\n",
        "Cursando Ciência de Dados"
      ],
      "metadata": {
        "id": "Rol-O5eaY1hn"
      }
    },
    {
      "cell_type": "markdown",
      "source": [
        "1- Faça um programa que mostre a mensagem \"Alô mundo\" na tela."
      ],
      "metadata": {
        "id": "z_70_Ag2ZAFr"
      }
    },
    {
      "cell_type": "code",
      "source": [
        "print(\"Hello Word, Olá Mundo!\")"
      ],
      "metadata": {
        "colab": {
          "base_uri": "https://localhost:8080/"
        },
        "id": "AxEX00zkZIjE",
        "outputId": "353e33c2-cbd7-4911-dbe1-8020e29380de"
      },
      "execution_count": 1,
      "outputs": [
        {
          "output_type": "stream",
          "name": "stdout",
          "text": [
            "Hello Word, Olá Mundo!\n"
          ]
        }
      ]
    },
    {
      "cell_type": "markdown",
      "source": [
        "2 - Faça um Programa que peça um número e então mostre a mensagem \"O número informado foi [número]\"."
      ],
      "metadata": {
        "id": "CVe7K7ttZhBG"
      }
    },
    {
      "cell_type": "code",
      "source": [
        "numero = input(\"Informe um número:\")\n",
        "print (\"Numero informado:\",numero)"
      ],
      "metadata": {
        "colab": {
          "base_uri": "https://localhost:8080/"
        },
        "id": "KLNDCy4tZrNe",
        "outputId": "313bcebd-1b16-4d52-ddf2-46e52bca55e6"
      },
      "execution_count": null,
      "outputs": [
        {
          "output_type": "stream",
          "name": "stdout",
          "text": [
            "Coloque um número:7\n",
            "Numero informado: 7\n"
          ]
        }
      ]
    },
    {
      "cell_type": "markdown",
      "source": [
        ">Para esta atividade, trabalhamos com a função Input.\n"
      ],
      "metadata": {
        "id": "bWwdhHUKb4Hm"
      }
    },
    {
      "cell_type": "markdown",
      "source": [
        "3 - Faça um Programa que peça dois números e imprima a soma."
      ],
      "metadata": {
        "id": "_hCjIKEMclbS"
      }
    },
    {
      "cell_type": "code",
      "source": [
        "\n",
        "print (\"*Operação de Soma*\")\n",
        "\n",
        "#Função que soma os dois números digitados\n",
        "def sum(valor1, valor2):\n",
        "    return valor1 + valor2\n",
        "\n",
        "\n",
        "\n",
        "#Atribui valores nas variáveis\n",
        "valor1 = int(input(\"\\nColoque um número:\"))\n",
        "valor2 = int(input(\"Somado com:\"))\n",
        "resultado = sum(valor1, valor2)\n",
        "\n",
        "#Imprime resultado na tela\n",
        "print (\"\\nO resultado da soma entre {} e {} é {}\" .format(valor1,valor2,resultado))\n",
        "\n",
        "#Pergunta ao usuário se gostaria de seguir com uma nova conta\n",
        "resposta_user = input(\"Deseja continuar? [S/N]\")\n",
        "\n",
        "while resposta_user == \"S\":\n",
        "  valor1 = int(input(\"\\nColoque um número:\"))\n",
        "  valor2 = int(input(\"Somado com:\"))\n",
        "  resultado = sum(valor1, valor2)\n",
        "\n",
        "#Imprime resultado na tela\n",
        "  print (\"\\nO resultado da soma entre {} e {} é {}\" .format(valor1,valor2,resultado))\n",
        "\n",
        "#Pergunta ao usuário se gostaria de seguir com uma nova conta\n",
        "  resposta_user = input(\"Deseja continuar? [S/N]\")\n",
        "\n",
        "else:\n",
        "  print(\"Até a próxima!\")\n",
        "\n",
        "\n",
        "\n"
      ],
      "metadata": {
        "colab": {
          "base_uri": "https://localhost:8080/"
        },
        "id": "IMTxkL_5h52t",
        "outputId": "0c80a052-732a-4f0d-a8cd-030007f41659"
      },
      "execution_count": null,
      "outputs": [
        {
          "output_type": "stream",
          "name": "stdout",
          "text": [
            "*Operação de Soma*\n",
            "\n",
            "Coloque um número:1\n",
            "Somado com:1\n",
            "\n",
            "O resultado da soma entre 1 e 1 é 2\n",
            "Deseja continuar? [S/N]n\n",
            "Até a próxima!\n"
          ]
        }
      ]
    },
    {
      "cell_type": "markdown",
      "source": [
        "> Neste exercicio utilizamos o método While e Else"
      ],
      "metadata": {
        "id": "ZQ3thfoC44bf"
      }
    },
    {
      "cell_type": "markdown",
      "source": [
        "4 - Faça um Programa que peça as 4 notas bimestrais e mostre a média."
      ],
      "metadata": {
        "id": "dzjmlttAOlFb"
      }
    },
    {
      "cell_type": "code",
      "source": [
        "print (\"*Média notas anual*\")\n",
        "\n",
        "#Função que soma os dois números digitados\n",
        "import sys\n",
        "\n",
        "#Atribui valores nas variáveis\n",
        "bim1 = int(input(\"\\nNota 1° Bimestre:\"))\n",
        "if bim1 > 10:\n",
        "  print (\"Valor informado no 1° Bimestre fora do parâmetro de avaliação\")\n",
        "  sys.exit()\n",
        "\n",
        "bim2 = int(input(\"Nota 2° Bimestre:\"))\n",
        "if bim2 > 10:\n",
        "  print (\"Valor informado no 2° Bimestre fora do parâmetro de avaliação\")\n",
        "  sys.exit()\n",
        "\n",
        "bim3 = int(input(\"Nota 3° Bimestre:\"))\n",
        "if bim3 > 10:\n",
        "  print (\"Valor informado no 3° Bimestre fora do parâmetro de avaliação\")\n",
        "  sys.exit()\n",
        "\n",
        "bim4 = int(input(\"Nota 4° Bimestre:\"))\n",
        "if bim4 > 10:\n",
        "  print (\"Valor informado no 4° Bimestre fora do parâmetro de avaliação\")\n",
        "  sys.exit()\n",
        "\n",
        "\n",
        "# Calculando a média\n",
        "media = ((bim1+ bim2+ bim3+ bim4)/4)\n",
        "\n",
        "#Imprime resultado na tela\n",
        "if media >= 6.25:\n",
        "  print (\"\\nAprovado! Média:\", media)\n",
        "else: print (\"Em recuperação. Média:\", media)\n",
        "\n",
        "\n"
      ],
      "metadata": {
        "colab": {
          "base_uri": "https://localhost:8080/"
        },
        "id": "EMWTcpnXbw4_",
        "outputId": "8c7460c6-2604-4cfc-c773-897d0c5d955a"
      },
      "execution_count": null,
      "outputs": [
        {
          "output_type": "stream",
          "name": "stdout",
          "text": [
            "*Média notas anual*\n",
            "\n",
            "Nota 1° Bimestre:7\n",
            "Nota 2° Bimestre:8\n",
            "Nota 3° Bimestre:7\n",
            "Nota 4° Bimestre:6\n",
            "\n",
            "Aprovado! Média: 7.0\n"
          ]
        }
      ]
    },
    {
      "cell_type": "markdown",
      "source": [
        "Utilizamos o método If Else na execução desta atividade"
      ],
      "metadata": {
        "id": "gEFxxJaIwxkx"
      }
    },
    {
      "cell_type": "markdown",
      "source": [
        "5 - Faça um programa para uma loja de tintas. O programa deverá pedir o tamanho em metros quadrados da área a ser pintada. Considere que a cobertura da tinta é de 1 litro para cada 3 metros quadrados e que a tinta é vendida em latas de 18 litros, que custam R$ 80,00. Informe ao usuário a quantidades de latas de tinta a serem compradas e o preço total."
      ],
      "metadata": {
        "id": "NDeHYym61Rue"
      }
    },
    {
      "cell_type": "code",
      "source": [
        "from traitlets import Integer\n",
        "import math\n",
        "print (\"*Orçamento Tintas*\")\n",
        "\n",
        "\n",
        "#Atribui valores nas variáveis\n",
        "metros_base = 3\n",
        "lata = 18\n",
        "preco = 80\n",
        "\n",
        "#Menu, apresentação dos produtos\n",
        "print (\"\\n--Produtos--\")\n",
        "print(\"\\n1 - Lata de tinta (18L): R$80,00\")\n",
        "print (\"\\n----\")\n",
        "\n",
        "\n",
        "metros_usuario = int(input(\"\\nInforme os metros quadrados:\"))\n",
        "\n",
        "#Imprime resultado na tela\n",
        "litros = math.ceil(metros_usuario/metros_base)\n",
        "print(\"Litros necessários:\",litros)\n",
        "\n",
        "print(\"\\nOrçamento =\")\n",
        "print (\"\\nQuantidade latas:\",math.ceil(litros/lata),\"lata(s)\")\n",
        "valor = math.ceil(preco*(math.ceil(litros/lata)))\n",
        "print (\"Valor: R$\", valor)\n",
        "\n",
        "#Encerrando programa\n",
        "print (\"\\n----\")\n",
        "print (\"\\nObrigado pela preferência!\")\n",
        "\n"
      ],
      "metadata": {
        "colab": {
          "base_uri": "https://localhost:8080/"
        },
        "id": "0oU1romf1sym",
        "outputId": "389e8b07-4ae3-4448-85f8-8277b9a575f6"
      },
      "execution_count": null,
      "outputs": [
        {
          "output_type": "stream",
          "name": "stdout",
          "text": [
            "*Orçamento Tintas*\n",
            "\n",
            "--Produtos--\n",
            "\n",
            "1 - Lata de tinta (18L): R$80,00\n",
            "\n",
            "----\n",
            "\n",
            "Informe os metros quadrados:12\n",
            "Litros necessários: 4\n",
            "\n",
            "Orçamento =\n",
            "\n",
            "Quantidade latas: 1 lata(s)\n",
            "Valor: R$ 80\n",
            "\n",
            "----\n",
            "\n",
            "Obrigado pela preferência!\n"
          ]
        }
      ]
    },
    {
      "cell_type": "markdown",
      "source": [
        "Uilizado o método 'round' para arredondar os valores da divisão, e não perder o valor fixo do produto."
      ],
      "metadata": {
        "id": "tvWxkHsrlobj"
      }
    },
    {
      "cell_type": "markdown",
      "source": [
        "6 - Faça um Programa para uma loja de tintas. O programa deverá pedir o tamanho em metros quadrados da área a ser pintada. Considere que a cobertura da tinta é de 1 litro para cada 6 metros quadrados e que a tinta é vendida em latas de 18 litros, que custam R$ 80,00 ou em galões de 3,6 litros, que custam R$ 25,00.\n",
        "Informe ao usuário as quantidades de tinta a serem compradas e os respectivos preços em 3 situações:\n",
        "comprar apenas latas de 18 litros;\n",
        "comprar apenas galões de 3,6 litros;\n",
        "misturar latas e galões, de forma que o desperdício de tinta seja menor. Acrescente 10% de folga e sempre arredonde os valores para cima, isto é, considere latas cheias."
      ],
      "metadata": {
        "id": "Pz94FWKWpOfx"
      }
    },
    {
      "cell_type": "code",
      "source": [
        "print (\"*Orçamento Tintas - Situação 2*\")\n",
        "\n",
        "\n",
        "#Atribui valores nas variáveis\n",
        "\n",
        "import math\n",
        "metros_base = 6\n",
        "litros_lata = 18\n",
        "litros_galao = 3.6\n",
        "preco_galao = 25\n",
        "preco_lata = 80\n",
        "metros = \"m2\"\n",
        "\n",
        "\n",
        "#Menu, apresentação dos produtos\n",
        "print (\"\\n--Produtos--\")\n",
        "print(\"\\n1 - Lata de tinta (18L): R$80,00 \\n2 - Galão de tinta (3,6L): R$25,00\")\n",
        "\n",
        "\n",
        "#Usuario informa sua necessidade, área a ser aplicada\n",
        "metros_usuario = int(input(\"\\n 1)Informe os metros quadrados:\"))\n",
        "\n",
        "#Imprime resultado na tela, necessidade de litros de tinta para o serviço\n",
        "litros_usuario = math.ceil(metros_usuario/metros_base)\n",
        "print (\" >Litros necessários:\",litros_usuario, \"litros\")\n",
        "\n",
        "\n",
        "#Inicia o cálculo de Orçamento\n",
        "print (\"\\n--Orçamento--\")\n",
        "print(\"\\n 1° Orçamento (Apenas utilizando latas)=\")\n",
        "\n",
        "##1° cenário, utilizando apenas latas\n",
        "quantidade_latas = math.ceil(litros_usuario/litros_lata)\n",
        "print (\"\\nQuantidade de latas:\",quantidade_latas,\"lata(s)\")\n",
        "\n",
        "#Imprime a quantidade de latas necessárias e valor total\n",
        "valor_lata = math.ceil(preco_lata*quantidade_latas)\n",
        "print (\"Valor (total): R$\", valor_lata)\n",
        "\n",
        "##2° Cenário, utilizando apenas de galões\n",
        "print (\"\\n----\")\n",
        "print(\"\\n 2° Orçamento (Apenas utilizando galões)=\")\n",
        "\n",
        "quantidade_galao = math.ceil(litros_usuario/litros_galao)\n",
        "\n",
        "#Imprime a quantidade de galões, e valor total\n",
        "print (\"\\nQuantidade de galões:\",quantidade_galao)\n",
        "valor_galao = math.ceil(preco_galao*quantidade_galao)\n",
        "\n",
        "print (\"Valor (total) R$:\", valor_galao)\n",
        "\n",
        "\n",
        "##3° cenário, mistura entre latas e galões\n",
        "print (\"\\n----\")\n",
        "print(\"\\n 3° Orçamento (Utilizando ambos os produtos)=\")\n",
        "\n",
        "mistura_lata = math.ceil(litros_usuario / litros_lata)\n",
        "mistura_galao = math.ceil((litros_usuario - (mistura_lata * litros_lata)) / litros_galao)\n",
        "\n",
        "if litros_usuario - (mistura_lata * litros_lata) % litros_galao != 0:\n",
        "    mistura_galao += 1\n",
        "\n",
        "print('\\nMistura: %d lata(s) e %d galõe(s) = R$ %.f' % (\n",
        "    mistura_lata, mistura_galao, ((mistura_lata * preco_lata) + (mistura_galao * preco_galao))))\n",
        "\n",
        "#Encerrando programa\n",
        "print (\"\\n----\")\n",
        "print (\"\\nObrigado pela preferência!\")"
      ],
      "metadata": {
        "colab": {
          "base_uri": "https://localhost:8080/"
        },
        "id": "Bhtxs10dU5Jp",
        "outputId": "4c761dbd-2577-4640-8ed2-30ad05512433"
      },
      "execution_count": null,
      "outputs": [
        {
          "output_type": "stream",
          "name": "stdout",
          "text": [
            "*Orçamento Tintas - Situação 2*\n",
            "\n",
            "--Produtos--\n",
            "\n",
            "1 - Lata de tinta (18L): R$80,00 \n",
            "2 - Galão de tinta (3,6L): R$25,00\n",
            "\n",
            " 1)Informe os metros quadrados:200\n",
            " >Litros necessários: 34 litros\n",
            "\n",
            "--Orçamento--\n",
            "\n",
            " 1° Orçamento (Apenas utilizando latas)=\n",
            "\n",
            "Quantidade de latas: 2 lata(s)\n",
            "Valor (total): R$ 160\n",
            "\n",
            "----\n",
            "\n",
            " 2° Orçamento (Apenas utilizando galões)=\n",
            "\n",
            "Quantidade de galões: 10\n",
            "Valor (total) R$: 250\n",
            "\n",
            "----\n",
            "\n",
            " 3° Orçamento (Utilizando ambos os produtos)=\n",
            "\n",
            "Mistura: 2 lata(s) e 1 galõe(s) = R$ 185\n",
            "\n",
            "----\n",
            "\n",
            "Obrigado pela preferência!\n"
          ]
        }
      ]
    }
  ]
}